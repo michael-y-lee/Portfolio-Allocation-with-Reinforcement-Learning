{
 "cells": [
  {
   "cell_type": "markdown",
   "metadata": {},
   "source": [
    "# Real-World Data Demonstration\n",
    "\n",
    "### Team Epsilon-Greedy Quants\n",
    "#### Michael Lee, Nikat Patel, Jose Antonio Alatorre Sanchez"
   ]
  },
  {
   "cell_type": "markdown",
   "metadata": {},
   "source": [
    "This notebook contains code for detrending time series data."
   ]
  },
  {
   "cell_type": "code",
   "execution_count": 1,
   "metadata": {},
   "outputs": [],
   "source": [
    "from environments.e_greedy import DeepTradingEnvironment, LinearAgent\n",
    "\n",
    "import datetime\n",
    "import numpy as np\n",
    "import pandas as pd\n",
    "import os\n",
    "from pypfopt.efficient_frontier import EfficientFrontier\n",
    "from pypfopt.plotting import plot_efficient_frontier\n",
    "from pypfopt.cla import CLA\n",
    "import matplotlib.pyplot as plt\n",
    "from matplotlib import cm\n",
    "import copy\n",
    "import quantstats as qs\n",
    "qs.extend_pandas()\n",
    "from statsmodels.tsa.holtwinters import ExponentialSmoothing\n",
    "import statsmodels.api as sm\n",
    "from scipy.signal import detrend\n",
    "from sklearn.linear_model import LinearRegression\n",
    "from sklearn.preprocessing import PolynomialFeatures\n",
    "from sklearn.metrics import mean_squared_error, r2_score\n",
    "import scipy.stats as stats\n",
    "import pylab "
   ]
  },
  {
   "cell_type": "code",
   "execution_count": 2,
   "metadata": {},
   "outputs": [],
   "source": [
    "root = os.getcwd()\n",
    "data_env = root+\"/data_env/\""
   ]
  },
  {
   "cell_type": "markdown",
   "metadata": {},
   "source": [
    "# Utility Functions"
   ]
  },
  {
   "cell_type": "code",
   "execution_count": 3,
   "metadata": {},
   "outputs": [],
   "source": [
    "def _retrieve_asset_dict():\n",
    "    # obtain close prices from parquet files of ETF price history\n",
    "    root = os.getcwd()\n",
    "    data_env = root+\"/data_env/\"\n",
    "    files = [_ for _ in os.listdir(data_env) if \"parquet\" in _]\n",
    "    assets_dict = {file: pd.read_parquet(data_env + \"/\" + file) for file in files}\n",
    "    counter=0\n",
    "    for key, value in assets_dict.items():\n",
    "        if counter==0:\n",
    "            main_index=value.index\n",
    "    else:\n",
    "        main_index=main_index.join(value.index,how=\"inner\")\n",
    "        \n",
    "    for key, value in assets_dict.items():\n",
    "        tmp_df=value.reindex(main_index)\n",
    "        tmp_df=tmp_df.fillna(method='ffill')\n",
    "        assets_dict[key]=tmp_df['close']\n",
    "    return assets_dict\n",
    "\n",
    "def build_portfolio_df(asset_dict):\n",
    "    portfolio_df = pd.DataFrame()\n",
    "    \n",
    "    for key, value in assets_dict.items():\n",
    "        key = key.split(\".\")[0]\n",
    "        tmp_df = pd.DataFrame(data=value)\n",
    "        tmp_df.columns=[key]\n",
    "        portfolio_df = pd.concat([portfolio_df, tmp_df], axis=1)\n",
    "        \n",
    "    portfolio_df.index = pd.to_datetime(portfolio_df.index, errors='coerce')\n",
    "    return portfolio_df"
   ]
  },
  {
   "cell_type": "code",
   "execution_count": 4,
   "metadata": {},
   "outputs": [],
   "source": [
    "def plot_backtest(linear_agent_train, env_test, test_input, model_run, model):\n",
    "    ## Create plot of backtest returns\n",
    "    if not \"backtest\" in locals():\n",
    "        backtest=None\n",
    "    benchmark_min_volatility, benchmark_max_sharpe, benchmark_max_return = \\\n",
    "        linear_agent_train._run_benchmarks(test_input, df_start=\"2020-04-15\", df_end=\"2020-11-13\", benchmark_start=\"2020-05-01\")\n",
    "    backtest, tmp_weights =linear_agent_train.backtest_policy(epoch=1,backtest=backtest, env_test=env_test, test_input=test_input)\n",
    "    backtest = backtest[\"2020-05-01\":]\n",
    "    plt.figure(figsize=(12, 6))\n",
    "    backtest_return = round((backtest[1][-1] - 1) * 100, 2)\n",
    "    backtest_volatility = round(backtest[1].std() * 100, 2)\n",
    "    plt.plot(backtest, color=\"blue\", label=\"Test Data - Return: {}%, Volatility: {}%\".format(str(backtest_return), str(backtest_volatility)))\n",
    "    # plot benchmarks\n",
    "    plt.plot(benchmark_max_return, color=\"black\", label=\"Real Dataset Benchmark - Max Return, Return: {}%, Volatility: {}%\".format(round((benchmark_max_return[-1] - 1) * 100, 2), round(benchmark_max_return.std() * 100, 2)))    \n",
    "    plt.plot(benchmark_max_sharpe, color=\"orange\", label=\"Real Dataset Benchmark - Max Sharpe, Return: {}%, Volatility: {}%\".format(round((benchmark_max_sharpe[-1] - 1) * 100, 2), round(benchmark_max_sharpe.std() * 100, 2))) \n",
    "    plt.plot(benchmark_min_volatility, color=\"green\",  label=\"Real Dataset Benchmark - Min Volatility, Return: {}%, Volatility: {}%\".format( round((benchmark_min_volatility[-1] - 1) * 100, 2), round(benchmark_min_volatility.std() * 100, 2)))\n",
    "    plt.gcf().autofmt_xdate()\n",
    "    plt.xticks(fontsize=linear_agent_train.tick_size)\n",
    "    plt.yticks(fontsize=linear_agent_train.tick_size)\n",
    "    plt.xlabel(\"Date\", fontsize = linear_agent_train.label_size)\n",
    "    plt.ylabel(\"Backtest\", fontsize = linear_agent_train.label_size)\n",
    "    plt.title(\"Backtest on Test Data: \"+ model,fontsize = linear_agent_train.title_size)\n",
    "    plt.legend(loc=\"upper left\")\n",
    "    plt.savefig(\"{}/{}_test_backtest_plot_{}.png\".format(linear_agent_train.model_run_dir, model_run, model))\n",
    "    tmp_weights.to_csv(root+'/temp_persisted_data/'+model_run+\"_test_backtest_weights_\"+model+'.csv')\n",
    "    plt.show()\n",
    "    return backtest"
   ]
  },
  {
   "cell_type": "markdown",
   "metadata": {},
   "source": [
    "# Reviewing Real-World Data"
   ]
  },
  {
   "cell_type": "code",
   "execution_count": 5,
   "metadata": {},
   "outputs": [
    {
     "data": {
      "text/html": [
       "<div>\n",
       "<style scoped>\n",
       "    .dataframe tbody tr th:only-of-type {\n",
       "        vertical-align: middle;\n",
       "    }\n",
       "\n",
       "    .dataframe tbody tr th {\n",
       "        vertical-align: top;\n",
       "    }\n",
       "\n",
       "    .dataframe thead th {\n",
       "        text-align: right;\n",
       "    }\n",
       "</style>\n",
       "<table border=\"1\" class=\"dataframe\">\n",
       "  <thead>\n",
       "    <tr style=\"text-align: right;\">\n",
       "      <th></th>\n",
       "      <th>open</th>\n",
       "      <th>high</th>\n",
       "      <th>low</th>\n",
       "      <th>close</th>\n",
       "      <th>volume</th>\n",
       "    </tr>\n",
       "    <tr>\n",
       "      <th>index</th>\n",
       "      <th></th>\n",
       "      <th></th>\n",
       "      <th></th>\n",
       "      <th></th>\n",
       "      <th></th>\n",
       "    </tr>\n",
       "  </thead>\n",
       "  <tbody>\n",
       "    <tr>\n",
       "      <th>2017-01-03 05:00:00+00:00</th>\n",
       "      <td>72.59413</td>\n",
       "      <td>72.90881</td>\n",
       "      <td>72.21272</td>\n",
       "      <td>72.54646</td>\n",
       "      <td>297832</td>\n",
       "    </tr>\n",
       "    <tr>\n",
       "      <th>2017-01-04 05:00:00+00:00</th>\n",
       "      <td>72.69902</td>\n",
       "      <td>73.09952</td>\n",
       "      <td>72.69902</td>\n",
       "      <td>72.97556</td>\n",
       "      <td>225891</td>\n",
       "    </tr>\n",
       "    <tr>\n",
       "      <th>2017-01-05 05:00:00+00:00</th>\n",
       "      <td>72.98509</td>\n",
       "      <td>73.25208</td>\n",
       "      <td>72.84206</td>\n",
       "      <td>73.21394</td>\n",
       "      <td>412561</td>\n",
       "    </tr>\n",
       "    <tr>\n",
       "      <th>2017-01-06 05:00:00+00:00</th>\n",
       "      <td>73.20441</td>\n",
       "      <td>73.77654</td>\n",
       "      <td>73.04230</td>\n",
       "      <td>73.63351</td>\n",
       "      <td>260918</td>\n",
       "    </tr>\n",
       "    <tr>\n",
       "      <th>2017-01-09 05:00:00+00:00</th>\n",
       "      <td>73.66212</td>\n",
       "      <td>73.76701</td>\n",
       "      <td>73.50001</td>\n",
       "      <td>73.60490</td>\n",
       "      <td>165800</td>\n",
       "    </tr>\n",
       "  </tbody>\n",
       "</table>\n",
       "</div>"
      ],
      "text/plain": [
       "                               open      high       low     close  volume\n",
       "index                                                                    \n",
       "2017-01-03 05:00:00+00:00  72.59413  72.90881  72.21272  72.54646  297832\n",
       "2017-01-04 05:00:00+00:00  72.69902  73.09952  72.69902  72.97556  225891\n",
       "2017-01-05 05:00:00+00:00  72.98509  73.25208  72.84206  73.21394  412561\n",
       "2017-01-06 05:00:00+00:00  73.20441  73.77654  73.04230  73.63351  260918\n",
       "2017-01-09 05:00:00+00:00  73.66212  73.76701  73.50001  73.60490  165800"
      ]
     },
     "execution_count": 5,
     "metadata": {},
     "output_type": "execute_result"
    }
   ],
   "source": [
    "# read a sample ETF\n",
    "\n",
    "data_env_two_asset = root+ \"/data_env/\"\n",
    "\n",
    "pd.read_parquet(data_env_two_asset+'MTUM.parquet').head()\n",
    "\n"
   ]
  },
  {
   "cell_type": "code",
   "execution_count": 9,
   "metadata": {},
   "outputs": [],
   "source": [
    "# create a portfolio\n",
    "assets_dict = _retrieve_asset_dict()\n",
    "portfolio_df = build_portfolio_df(assets_dict)\n",
    "# portfolio_df=portfolio_df.rename(columns = {'USMV':'Simulated Asset'})"
   ]
  },
  {
   "cell_type": "code",
   "execution_count": 10,
   "metadata": {},
   "outputs": [
    {
     "data": {
      "text/html": [
       "<div>\n",
       "<style scoped>\n",
       "    .dataframe tbody tr th:only-of-type {\n",
       "        vertical-align: middle;\n",
       "    }\n",
       "\n",
       "    .dataframe tbody tr th {\n",
       "        vertical-align: top;\n",
       "    }\n",
       "\n",
       "    .dataframe thead th {\n",
       "        text-align: right;\n",
       "    }\n",
       "</style>\n",
       "<table border=\"1\" class=\"dataframe\">\n",
       "  <thead>\n",
       "    <tr style=\"text-align: right;\">\n",
       "      <th></th>\n",
       "      <th>EEMV</th>\n",
       "      <th>EFAV</th>\n",
       "      <th>MTUM</th>\n",
       "      <th>QUAL</th>\n",
       "      <th>SIZE</th>\n",
       "      <th>USMV</th>\n",
       "      <th>VLUE</th>\n",
       "    </tr>\n",
       "    <tr>\n",
       "      <th>index</th>\n",
       "      <th></th>\n",
       "      <th></th>\n",
       "      <th></th>\n",
       "      <th></th>\n",
       "      <th></th>\n",
       "      <th></th>\n",
       "      <th></th>\n",
       "    </tr>\n",
       "  </thead>\n",
       "  <tbody>\n",
       "    <tr>\n",
       "      <th>2019-02-01 05:00:00+00:00</th>\n",
       "      <td>56.97454</td>\n",
       "      <td>65.81750</td>\n",
       "      <td>104.3037</td>\n",
       "      <td>80.92102</td>\n",
       "      <td>82.16029</td>\n",
       "      <td>53.53375</td>\n",
       "      <td>75.94203</td>\n",
       "    </tr>\n",
       "    <tr>\n",
       "      <th>2019-02-04 05:00:00+00:00</th>\n",
       "      <td>57.07571</td>\n",
       "      <td>66.04416</td>\n",
       "      <td>104.4988</td>\n",
       "      <td>81.45429</td>\n",
       "      <td>82.55833</td>\n",
       "      <td>53.91000</td>\n",
       "      <td>76.15092</td>\n",
       "    </tr>\n",
       "    <tr>\n",
       "      <th>2019-02-05 05:00:00+00:00</th>\n",
       "      <td>57.62489</td>\n",
       "      <td>66.40305</td>\n",
       "      <td>104.6647</td>\n",
       "      <td>81.98756</td>\n",
       "      <td>82.92724</td>\n",
       "      <td>54.06436</td>\n",
       "      <td>76.22688</td>\n",
       "    </tr>\n",
       "    <tr>\n",
       "      <th>2019-02-06 05:00:00+00:00</th>\n",
       "      <td>57.06607</td>\n",
       "      <td>65.94972</td>\n",
       "      <td>104.7428</td>\n",
       "      <td>81.84212</td>\n",
       "      <td>82.83987</td>\n",
       "      <td>53.98718</td>\n",
       "      <td>76.46426</td>\n",
       "    </tr>\n",
       "    <tr>\n",
       "      <th>2019-02-07 05:00:00+00:00</th>\n",
       "      <td>56.75777</td>\n",
       "      <td>65.49639</td>\n",
       "      <td>104.2744</td>\n",
       "      <td>81.02767</td>\n",
       "      <td>82.37387</td>\n",
       "      <td>53.87141</td>\n",
       "      <td>75.39131</td>\n",
       "    </tr>\n",
       "  </tbody>\n",
       "</table>\n",
       "</div>"
      ],
      "text/plain": [
       "                               EEMV      EFAV      MTUM      QUAL      SIZE  \\\n",
       "index                                                                         \n",
       "2019-02-01 05:00:00+00:00  56.97454  65.81750  104.3037  80.92102  82.16029   \n",
       "2019-02-04 05:00:00+00:00  57.07571  66.04416  104.4988  81.45429  82.55833   \n",
       "2019-02-05 05:00:00+00:00  57.62489  66.40305  104.6647  81.98756  82.92724   \n",
       "2019-02-06 05:00:00+00:00  57.06607  65.94972  104.7428  81.84212  82.83987   \n",
       "2019-02-07 05:00:00+00:00  56.75777  65.49639  104.2744  81.02767  82.37387   \n",
       "\n",
       "                               USMV      VLUE  \n",
       "index                                          \n",
       "2019-02-01 05:00:00+00:00  53.53375  75.94203  \n",
       "2019-02-04 05:00:00+00:00  53.91000  76.15092  \n",
       "2019-02-05 05:00:00+00:00  54.06436  76.22688  \n",
       "2019-02-06 05:00:00+00:00  53.98718  76.46426  \n",
       "2019-02-07 05:00:00+00:00  53.87141  75.39131  "
      ]
     },
     "execution_count": 10,
     "metadata": {},
     "output_type": "execute_result"
    }
   ],
   "source": [
    "# create a train dataset and de-mean the time series\n",
    "\n",
    "portfolio_df_train = portfolio_df[portfolio_df.index >= '2019-02-01']\n",
    "portfolio_df_train = portfolio_df_train[portfolio_df_train.index <= '2020-02-01']\n",
    "portfolio_df_train.sub(portfolio_df_train.mean())\n",
    "\n",
    "portfolio_df_train.head()"
   ]
  },
  {
   "cell_type": "code",
   "execution_count": 11,
   "metadata": {},
   "outputs": [
    {
     "data": {
      "text/plain": [
       "DatetimeIndex(['2019-02-01 05:00:00+00:00', '2019-02-04 05:00:00+00:00',\n",
       "               '2019-02-05 05:00:00+00:00', '2019-02-06 05:00:00+00:00',\n",
       "               '2019-02-07 05:00:00+00:00', '2019-02-08 05:00:00+00:00',\n",
       "               '2019-02-11 05:00:00+00:00', '2019-02-12 05:00:00+00:00',\n",
       "               '2019-02-13 05:00:00+00:00', '2019-02-14 05:00:00+00:00',\n",
       "               ...\n",
       "               '2020-01-17 05:00:00+00:00', '2020-01-21 05:00:00+00:00',\n",
       "               '2020-01-22 05:00:00+00:00', '2020-01-23 05:00:00+00:00',\n",
       "               '2020-01-24 05:00:00+00:00', '2020-01-27 05:00:00+00:00',\n",
       "               '2020-01-28 05:00:00+00:00', '2020-01-29 05:00:00+00:00',\n",
       "               '2020-01-30 05:00:00+00:00', '2020-01-31 05:00:00+00:00'],\n",
       "              dtype='datetime64[ns, UTC]', name='index', length=252, freq=None)"
      ]
     },
     "execution_count": 11,
     "metadata": {},
     "output_type": "execute_result"
    }
   ],
   "source": [
    "portfolio_df_train[\"MTUM\"].index"
   ]
  },
  {
   "cell_type": "code",
   "execution_count": 13,
   "metadata": {},
   "outputs": [
    {
     "data": {
      "text/plain": [
       "EEMV     56.97454\n",
       "EFAV     65.81750\n",
       "MTUM    104.30370\n",
       "QUAL     80.92102\n",
       "SIZE     82.16029\n",
       "USMV     53.53375\n",
       "VLUE     75.94203\n",
       "Name: 2019-02-01 05:00:00+00:00, dtype: float64"
      ]
     },
     "execution_count": 13,
     "metadata": {},
     "output_type": "execute_result"
    }
   ],
   "source": [
    "portfolio_df_train.iloc[0]\n"
   ]
  },
  {
   "cell_type": "code",
   "execution_count": 14,
   "metadata": {},
   "outputs": [],
   "source": [
    "tick_size  = 14  # tick size\n",
    "label_size = 18  # x, y size\n",
    "title_size = 22  # title size"
   ]
  },
  {
   "cell_type": "code",
   "execution_count": 15,
   "metadata": {},
   "outputs": [
    {
     "name": "stderr",
     "output_type": "stream",
     "text": [
      "C:\\Users\\micha\\anaconda3\\envs\\e599a_py37\\lib\\site-packages\\statsmodels\\tsa\\base\\tsa_model.py:583: ValueWarning: A date index has been provided, but it has no associated frequency information and so will be ignored when e.g. forecasting.\n",
      "  ' ignored when e.g. forecasting.', ValueWarning)\n"
     ]
    },
    {
     "data": {
      "image/png": "[encoded data removed]",
      "text/plain": [
       "<Figure size 432x288 with 1 Axes>"
      ]
     },
     "execution_count": 15,
     "metadata": {},
     "output_type": "execute_result"
    },
    {
     "data": {
      "image/png": "[encoded data removed]",
      "text/plain": [
       "<Figure size 432x288 with 1 Axes>"
      ]
     },
     "metadata": {
      "needs_background": "light"
     },
     "output_type": "display_data"
    },
    {
     "data": {
      "image/png": "[encoded data removed]",
      "text/plain": [
       "<Figure size 432x288 with 1 Axes>"
      ]
     },
     "metadata": {
      "needs_background": "light"
     },
     "output_type": "display_data"
    }
   ],
   "source": [
    "holtwinters = ExponentialSmoothing(portfolio_df_train[\"USMV\"], trend=\"add\", seasonal=None)\n",
    "\n",
    "fit = holtwinters.fit(optimized=True, smoothing_level=0.2, smoothing_slope=0.10)\n",
    "\n",
    "fit.__dict__\n",
    "HW_predict = fit.predict(start=portfolio_df_train.iloc[0].name, end = portfolio_df_train.iloc[-1].name)\n",
    "\n",
    "fit._results.trend # use as feature \n",
    "fit._results.level # use as feature \n",
    "fit._results.resid # use as feature \n",
    "\n",
    "import statsmodels.graphics.tsaplots as splt \n",
    "splt.plot_pacf(fit._results.resid)\n",
    "splt.plot_acf(fit._results.resid)\n"
   ]
  },
  {
   "cell_type": "code",
   "execution_count": 17,
   "metadata": {},
   "outputs": [
    {
     "data": {
      "text/plain": [
       "index\n",
       "2019-02-01 05:00:00+00:00    53.776851\n",
       "2019-02-04 05:00:00+00:00    53.819057\n",
       "2019-02-05 05:00:00+00:00    53.929890\n",
       "2019-02-06 05:00:00+00:00    54.052118\n",
       "2019-02-07 05:00:00+00:00    54.133166\n",
       "                               ...    \n",
       "2020-01-27 05:00:00+00:00    66.889194\n",
       "2020-01-28 05:00:00+00:00    66.886974\n",
       "2020-01-29 05:00:00+00:00    66.957878\n",
       "2020-01-30 05:00:00+00:00    66.957361\n",
       "2020-01-31 05:00:00+00:00    67.059707\n",
       "Length: 252, dtype: float64"
      ]
     },
     "execution_count": 17,
     "metadata": {},
     "output_type": "execute_result"
    }
   ],
   "source": [
    "fit._results.resid.std(ddof=0)"
   ]
  },
  {
   "cell_type": "code",
   "execution_count": 18,
   "metadata": {},
   "outputs": [
    {
     "data": {
      "text/plain": [
       "Timestamp('2020-01-31 05:00:00+0000', tz='UTC')"
      ]
     },
     "execution_count": 18,
     "metadata": {},
     "output_type": "execute_result"
    }
   ],
   "source": [
    "portfolio_df_train.iloc[-1].name"
   ]
  },
  {
   "cell_type": "code",
   "execution_count": 19,
   "metadata": {},
   "outputs": [
    {
     "data": {
      "image/png": "[encoded data removed]",
      "text/plain": [
       "<Figure size 576x288 with 1 Axes>"
      ]
     },
     "metadata": {
      "needs_background": "light"
     },
     "output_type": "display_data"
    }
   ],
   "source": [
    "plt.figure(figsize=(8,4))\n",
    "\n",
    "plt.plot(portfolio_df_train[\"USMV\"], color = \"blue\", label = \"Original USMV\")\n",
    "plt.plot(HW_predict, color =\"red\", label = \"Double Exponential Smoothed USMV\")\n",
    "plt.legend(loc=\"upper left\")\n",
    "plt.xticks(fontsize=tick_size)\n",
    "plt.yticks(fontsize=tick_size)\n",
    "plt.xlabel(\"Date\", fontsize=label_size)\n",
    "plt.ylabel(\"Price\", fontsize=label_size)\n",
    "plt.title(\"Double Exponential Smoothing Model\", fontsize=title_size)\n",
    "plt.show()\n",
    "plt.close()"
   ]
  },
  {
   "cell_type": "code",
   "execution_count": 20,
   "metadata": {},
   "outputs": [
    {
     "data": {
      "text/plain": [
       "array([-0.24310139,  0.0909432 ,  0.13447001, -0.06493794, -0.26175554,\n",
       "       -0.07631451, -0.1386754 ,  0.1904594 ,  0.18947805, -0.09487659,\n",
       "        0.39344723,  0.33245734,  0.20948628,  0.08761971,  0.25850406,\n",
       "       -0.06338855, -0.19421486, -0.27570161, -0.19065698,  0.03554187,\n",
       "       -0.3726999 , -0.40241931, -0.62073645, -0.82157544, -0.76320512,\n",
       "       -0.02593476,  0.08203022,  0.31148161,  0.15114308,  0.2610394 ,\n",
       "        0.18937566, -0.03575284, -0.29702058,  0.42403563, -0.16034011,\n",
       "       -0.1209139 ,  0.26176535, -0.00884656,  0.12357084,  0.35295335,\n",
       "        0.41316029,  0.21090263,  0.04486845, -0.01135626,  0.1570011 ,\n",
       "        0.02699696, -0.23253629, -0.13521216, -0.20964861,  0.00623519,\n",
       "        0.00444754, -0.41359154, -0.74945097, -0.5575495 , -0.55754733,\n",
       "        0.00574536,  0.03972459, -0.04043651,  0.24497334,  0.01312176,\n",
       "        0.50545805, -0.22478207, -0.21356853,  0.02247367, -0.05069204,\n",
       "       -0.73786077, -0.63349853, -0.51796878,  0.02071441, -0.64335334,\n",
       "       -0.26087047,  0.05033324,  0.57920954,  0.39014639,  0.22140294,\n",
       "        0.56632013,  0.59843747,  0.1762626 ,  0.14497745, -0.53197023,\n",
       "       -0.77228896, -0.32912816, -0.48143696, -0.07055527,  0.5501712 ,\n",
       "        1.22946894,  1.35116776,  1.38275346,  0.96383695,  0.48350701,\n",
       "        0.52546291,  0.34509837,  0.33921478,  0.0122636 ,  0.07666739,\n",
       "        0.26299708,  0.50418088,  0.04433431, -0.06149963, -0.5636668 ,\n",
       "       -1.26574719, -0.90620656, -0.59070993, -0.30701842,  0.12082515,\n",
       "        0.6651935 ,  0.30833432,  0.02643028,  0.02433845,  0.19746821,\n",
       "        0.05936266,  0.07428097,  0.05551999, -0.23325919, -0.46936735,\n",
       "       -0.19117653, -0.81200035, -0.71787939, -0.44320504, -0.42884146,\n",
       "       -0.36007376,  0.13060187,  0.15049034, -0.2066487 , -0.80957695,\n",
       "       -0.75961801, -0.6947185 , -1.98248452, -0.60672765, -0.1464276 ,\n",
       "        0.96482099,  0.63676345,  0.04996214,  0.60201186, -0.85754861,\n",
       "       -0.17731601,  0.46778639,  0.92583258,  0.33891288,  0.69031886,\n",
       "        0.65576727, -0.65092934,  0.07930195, -0.01975906,  0.26169732,\n",
       "        0.69585848,  0.43039023,  0.38469783,  0.78350995,  0.69737945,\n",
       "        0.64374746, -0.09369308, -0.68177165, -0.41798907, -0.13044323,\n",
       "       -0.45285769, -0.53619211,  0.0505742 ,  0.05155577,  0.0902599 ,\n",
       "       -0.13377199, -0.06687206, -0.20040468, -0.13400268, -0.02929102,\n",
       "       -0.39488588, -0.05345405, -0.6008795 , -1.35938227, -0.66738684,\n",
       "        0.39840723, -0.00895565, -0.67702684, -0.09262326,  0.23980208,\n",
       "        0.2857563 ,  0.16030455,  0.30126706,  0.27597173,  0.38714603,\n",
       "        0.35586255,  0.41174851, -0.22669769, -0.10691069, -0.08719288,\n",
       "       -0.33377478, -0.2798248 , -0.01586832,  0.33254423,  0.15467339,\n",
       "        0.14623325, -0.34274353, -0.58035009, -0.11324833, -0.11877195,\n",
       "       -0.10126542, -0.18304488, -0.08829755,  0.31205627,  0.41089819,\n",
       "        0.63826377,  0.66067095,  0.58711328,  0.37960488, -0.03854394,\n",
       "       -0.02015211,  0.09277439,  0.5334001 ,  0.56222267,  0.21211627,\n",
       "       -0.33631117, -0.47487691, -0.12628195, -0.04051035,  0.17562714,\n",
       "       -0.05600542, -0.16194135, -0.18476127, -0.03304198,  0.08900429,\n",
       "        0.32747122,  0.17321534,  0.05619633,  0.2467972 ,  0.55177194,\n",
       "        0.0959463 ,  0.06391687,  0.16493498,  0.21292077, -0.11701902,\n",
       "       -0.03423046, -0.08539501, -0.10493875, -0.06927496, -0.39358844,\n",
       "       -0.24174745,  0.15023029,  0.02787788,  0.35253839,  0.16734604,\n",
       "        0.51766523,  0.83185728,  0.85009377,  0.72960109,  0.56942493,\n",
       "        0.46924549, -0.09258296, -0.69762407, -0.30182447, -0.5990283 ,\n",
       "       -0.0770108 , -0.99605658])"
      ]
     },
     "execution_count": 20,
     "metadata": {},
     "output_type": "execute_result"
    }
   ],
   "source": [
    "fit._results.resid"
   ]
  },
  {
   "cell_type": "code",
   "execution_count": 21,
   "metadata": {},
   "outputs": [
    {
     "data": {
      "text/html": [
       "<div>\n",
       "<style scoped>\n",
       "    .dataframe tbody tr th:only-of-type {\n",
       "        vertical-align: middle;\n",
       "    }\n",
       "\n",
       "    .dataframe tbody tr th {\n",
       "        vertical-align: top;\n",
       "    }\n",
       "\n",
       "    .dataframe thead th {\n",
       "        text-align: right;\n",
       "    }\n",
       "</style>\n",
       "<table border=\"1\" class=\"dataframe\">\n",
       "  <thead>\n",
       "    <tr style=\"text-align: right;\">\n",
       "      <th></th>\n",
       "      <th>lb_stat</th>\n",
       "      <th>lb_pvalue</th>\n",
       "    </tr>\n",
       "  </thead>\n",
       "  <tbody>\n",
       "    <tr>\n",
       "      <th>1</th>\n",
       "      <td>103.013968</td>\n",
       "      <td>3.327936e-24</td>\n",
       "    </tr>\n",
       "    <tr>\n",
       "      <th>2</th>\n",
       "      <td>138.487174</td>\n",
       "      <td>8.470171e-31</td>\n",
       "    </tr>\n",
       "    <tr>\n",
       "      <th>3</th>\n",
       "      <td>146.572331</td>\n",
       "      <td>1.445846e-31</td>\n",
       "    </tr>\n",
       "    <tr>\n",
       "      <th>4</th>\n",
       "      <td>146.715277</td>\n",
       "      <td>1.029220e-30</td>\n",
       "    </tr>\n",
       "    <tr>\n",
       "      <th>5</th>\n",
       "      <td>149.011788</td>\n",
       "      <td>2.167030e-30</td>\n",
       "    </tr>\n",
       "    <tr>\n",
       "      <th>6</th>\n",
       "      <td>154.142157</td>\n",
       "      <td>1.029147e-30</td>\n",
       "    </tr>\n",
       "    <tr>\n",
       "      <th>7</th>\n",
       "      <td>155.612683</td>\n",
       "      <td>2.685923e-30</td>\n",
       "    </tr>\n",
       "    <tr>\n",
       "      <th>8</th>\n",
       "      <td>157.107382</td>\n",
       "      <td>6.435803e-30</td>\n",
       "    </tr>\n",
       "    <tr>\n",
       "      <th>9</th>\n",
       "      <td>157.809619</td>\n",
       "      <td>2.117087e-29</td>\n",
       "    </tr>\n",
       "    <tr>\n",
       "      <th>10</th>\n",
       "      <td>158.627629</td>\n",
       "      <td>6.220258e-29</td>\n",
       "    </tr>\n",
       "    <tr>\n",
       "      <th>11</th>\n",
       "      <td>159.478622</td>\n",
       "      <td>1.710876e-28</td>\n",
       "    </tr>\n",
       "    <tr>\n",
       "      <th>12</th>\n",
       "      <td>160.364057</td>\n",
       "      <td>4.427727e-28</td>\n",
       "    </tr>\n",
       "    <tr>\n",
       "      <th>13</th>\n",
       "      <td>160.971579</td>\n",
       "      <td>1.253225e-27</td>\n",
       "    </tr>\n",
       "    <tr>\n",
       "      <th>14</th>\n",
       "      <td>160.973504</td>\n",
       "      <td>4.521169e-27</td>\n",
       "    </tr>\n",
       "    <tr>\n",
       "      <th>15</th>\n",
       "      <td>161.153876</td>\n",
       "      <td>1.445924e-26</td>\n",
       "    </tr>\n",
       "    <tr>\n",
       "      <th>16</th>\n",
       "      <td>161.237138</td>\n",
       "      <td>4.670018e-26</td>\n",
       "    </tr>\n",
       "    <tr>\n",
       "      <th>17</th>\n",
       "      <td>161.717934</td>\n",
       "      <td>1.218573e-25</td>\n",
       "    </tr>\n",
       "    <tr>\n",
       "      <th>18</th>\n",
       "      <td>161.828283</td>\n",
       "      <td>3.653326e-25</td>\n",
       "    </tr>\n",
       "    <tr>\n",
       "      <th>19</th>\n",
       "      <td>161.977021</td>\n",
       "      <td>1.046154e-24</td>\n",
       "    </tr>\n",
       "    <tr>\n",
       "      <th>20</th>\n",
       "      <td>162.905355</td>\n",
       "      <td>2.060943e-24</td>\n",
       "    </tr>\n",
       "    <tr>\n",
       "      <th>21</th>\n",
       "      <td>167.828392</td>\n",
       "      <td>6.762146e-25</td>\n",
       "    </tr>\n",
       "    <tr>\n",
       "      <th>22</th>\n",
       "      <td>177.063869</td>\n",
       "      <td>3.263438e-26</td>\n",
       "    </tr>\n",
       "    <tr>\n",
       "      <th>23</th>\n",
       "      <td>185.128166</td>\n",
       "      <td>2.652653e-27</td>\n",
       "    </tr>\n",
       "    <tr>\n",
       "      <th>24</th>\n",
       "      <td>186.231472</td>\n",
       "      <td>4.702787e-27</td>\n",
       "    </tr>\n",
       "    <tr>\n",
       "      <th>25</th>\n",
       "      <td>186.442685</td>\n",
       "      <td>1.213782e-26</td>\n",
       "    </tr>\n",
       "    <tr>\n",
       "      <th>26</th>\n",
       "      <td>186.470949</td>\n",
       "      <td>3.327001e-26</td>\n",
       "    </tr>\n",
       "    <tr>\n",
       "      <th>27</th>\n",
       "      <td>186.561305</td>\n",
       "      <td>8.702903e-26</td>\n",
       "    </tr>\n",
       "    <tr>\n",
       "      <th>28</th>\n",
       "      <td>186.620710</td>\n",
       "      <td>2.264349e-25</td>\n",
       "    </tr>\n",
       "    <tr>\n",
       "      <th>29</th>\n",
       "      <td>189.311790</td>\n",
       "      <td>1.870492e-25</td>\n",
       "    </tr>\n",
       "    <tr>\n",
       "      <th>30</th>\n",
       "      <td>192.978772</td>\n",
       "      <td>1.010905e-25</td>\n",
       "    </tr>\n",
       "    <tr>\n",
       "      <th>31</th>\n",
       "      <td>196.403737</td>\n",
       "      <td>6.037845e-26</td>\n",
       "    </tr>\n",
       "    <tr>\n",
       "      <th>32</th>\n",
       "      <td>200.633462</td>\n",
       "      <td>2.550157e-26</td>\n",
       "    </tr>\n",
       "    <tr>\n",
       "      <th>33</th>\n",
       "      <td>201.610475</td>\n",
       "      <td>4.278290e-26</td>\n",
       "    </tr>\n",
       "    <tr>\n",
       "      <th>34</th>\n",
       "      <td>201.611211</td>\n",
       "      <td>1.071366e-25</td>\n",
       "    </tr>\n",
       "    <tr>\n",
       "      <th>35</th>\n",
       "      <td>201.938797</td>\n",
       "      <td>2.304314e-25</td>\n",
       "    </tr>\n",
       "    <tr>\n",
       "      <th>36</th>\n",
       "      <td>203.631746</td>\n",
       "      <td>2.767349e-25</td>\n",
       "    </tr>\n",
       "    <tr>\n",
       "      <th>37</th>\n",
       "      <td>205.454299</td>\n",
       "      <td>3.126502e-25</td>\n",
       "    </tr>\n",
       "    <tr>\n",
       "      <th>38</th>\n",
       "      <td>207.918746</td>\n",
       "      <td>2.690077e-25</td>\n",
       "    </tr>\n",
       "    <tr>\n",
       "      <th>39</th>\n",
       "      <td>211.476972</td>\n",
       "      <td>1.466590e-25</td>\n",
       "    </tr>\n",
       "    <tr>\n",
       "      <th>40</th>\n",
       "      <td>213.462534</td>\n",
       "      <td>1.526657e-25</td>\n",
       "    </tr>\n",
       "  </tbody>\n",
       "</table>\n",
       "</div>"
      ],
      "text/plain": [
       "       lb_stat     lb_pvalue\n",
       "1   103.013968  3.327936e-24\n",
       "2   138.487174  8.470171e-31\n",
       "3   146.572331  1.445846e-31\n",
       "4   146.715277  1.029220e-30\n",
       "5   149.011788  2.167030e-30\n",
       "6   154.142157  1.029147e-30\n",
       "7   155.612683  2.685923e-30\n",
       "8   157.107382  6.435803e-30\n",
       "9   157.809619  2.117087e-29\n",
       "10  158.627629  6.220258e-29\n",
       "11  159.478622  1.710876e-28\n",
       "12  160.364057  4.427727e-28\n",
       "13  160.971579  1.253225e-27\n",
       "14  160.973504  4.521169e-27\n",
       "15  161.153876  1.445924e-26\n",
       "16  161.237138  4.670018e-26\n",
       "17  161.717934  1.218573e-25\n",
       "18  161.828283  3.653326e-25\n",
       "19  161.977021  1.046154e-24\n",
       "20  162.905355  2.060943e-24\n",
       "21  167.828392  6.762146e-25\n",
       "22  177.063869  3.263438e-26\n",
       "23  185.128166  2.652653e-27\n",
       "24  186.231472  4.702787e-27\n",
       "25  186.442685  1.213782e-26\n",
       "26  186.470949  3.327001e-26\n",
       "27  186.561305  8.702903e-26\n",
       "28  186.620710  2.264349e-25\n",
       "29  189.311790  1.870492e-25\n",
       "30  192.978772  1.010905e-25\n",
       "31  196.403737  6.037845e-26\n",
       "32  200.633462  2.550157e-26\n",
       "33  201.610475  4.278290e-26\n",
       "34  201.611211  1.071366e-25\n",
       "35  201.938797  2.304314e-25\n",
       "36  203.631746  2.767349e-25\n",
       "37  205.454299  3.126502e-25\n",
       "38  207.918746  2.690077e-25\n",
       "39  211.476972  1.466590e-25\n",
       "40  213.462534  1.526657e-25"
      ]
     },
     "execution_count": 21,
     "metadata": {},
     "output_type": "execute_result"
    }
   ],
   "source": [
    "sm.stats.acorr_ljungbox(fit._results.resid, return_df=True)"
   ]
  },
  {
   "cell_type": "code",
   "execution_count": 22,
   "metadata": {},
   "outputs": [
    {
     "data": {
      "image/png": "[encoded data removed]",
      "text/plain": [
       "<Figure size 432x288 with 1 Axes>"
      ]
     },
     "metadata": {
      "needs_background": "light"
     },
     "output_type": "display_data"
    }
   ],
   "source": [
    "stats.probplot(fit._results.resid, dist=\"norm\", plot=pylab)\n",
    "pylab.show()"
   ]
  }
 ],
 "metadata": {
  "kernelspec": {
   "display_name": "e599a_py37",
   "language": "python",
   "name": "e599a_py37"
  },
  "language_info": {
   "codemirror_mode": {
    "name": "ipython",
    "version": 3
   },
   "file_extension": ".py",
   "mimetype": "text/x-python",
   "name": "python",
   "nbconvert_exporter": "python",
   "pygments_lexer": "ipython3",
   "version": "3.7.9"
  }
 },
 "nbformat": 4,
 "nbformat_minor": 4
}